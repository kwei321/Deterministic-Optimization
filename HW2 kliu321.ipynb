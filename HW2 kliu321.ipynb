{
 "cells": [
  {
   "cell_type": "markdown",
   "metadata": {},
   "source": [
    "# ISYE 6669 HW2\n",
    "## 1. Expand the following Summations\n",
    "(a)$\\sum_{i = 1}^{3} x_i$\n",
    "<br>\n",
    "(b) $\\sum_{t = 1}^{3} 2^t\\omega_{2t}$\n",
    "<br>\n",
    "(c)$\\sum_{i = 1}^{3} \\sum_{j = 1}^{i} x_{ij}$\n",
    "<br>\n",
    "(d)$\\sum_{i = 1}^{3} \\sum_{j = 2}^{4} (x_i+y_{i_j})$\n",
    "<br>\n",
    "(e)$\\sum_{k = 1}^{3} (2k+1)x_{k+1}$\n",
    "<br>\n",
    "(f)$\\sum_{n = 3}^{5} \\sum_{m = n + 1}^{n+3} x_ny_m$"
   ]
  },
  {
   "cell_type": "markdown",
   "metadata": {},
   "source": [
    "## 1. Solution\n",
    "(a) $x_1 + x_2 + x_3$\n",
    "<br>\n",
    "(b) $2\\omega_2 + 4\\omega_4 + 8\\omega_6$\n",
    "<br>\n",
    "(c) $x_{11} + (x_{21}+x_{22}) + (x_{31} + x_{32} + x_{33})$\n",
    "<br>\n",
    "(d) $(x_1 + y_{12})+(x_1+y_{13})+(x_1+y_{14})$ +\n",
    "$(x_2 + y_{22})+(x_2+y_{23})+(x_2+y_{24})$ +\n",
    "$(x_3 + y_{32})+(x_3+y_{33})+(x_3+y_{34})$\n",
    "<br>\n",
    "The above equation can be simplify to:\n",
    "$3x_1 + 3x_2 + 3x_3 + (y_{12} + y_{13} + y_{14}) + (y_{22} + y_{23} + y_{24}) + (y_{32} + y_{33} + y_{34})$\n",
    "<br>\n",
    "(e) $3x_{2} + 5x_3 + 7x_4$\n",
    "<br>\n",
    "(f) $x_3*(y_4+y_5+y_6) + x_4*(y_5+y_6+y_7) + x_5*({y_6+y_7+y_8})$"
   ]
  },
  {
   "cell_type": "markdown",
   "metadata": {},
   "source": [
    "## 2. Consider the following row vectors:\n",
    "$x = \\begin{bmatrix} 2\\\\ 1 \\\\4 \\end{bmatrix}$  and $y=\\begin{bmatrix} 3\\\\ 1 \\\\2 \\end{bmatrix}$\n",
    "<br/>\n",
    " (a) What is dimension of x and y? <br/>\n",
    " (b) Compute $x + 2y$. <br/>\n",
    " (c) Compute $||x − y||$. <br/>\n",
    " (d) Compute $x>(x + y)$. <br/>\n",
    " (e) Compute $x_2y_1$<br/>"
   ]
  },
  {
   "cell_type": "code",
   "execution_count": 3,
   "metadata": {},
   "outputs": [
    {
     "name": "stdout",
     "output_type": "stream",
     "text": [
      "(c) The l2 norm of x - y is 2.2361\n",
      "(d) The value of x^T (x+y) [[36]]\n"
     ]
    }
   ],
   "source": [
    "# use numpy to calculate stuff\n",
    "\n",
    "import numpy as np\n",
    "\n",
    "x = np.matrix([[2], [1], [4]])\n",
    "y = np.matrix([[3], [1], [2]])\n",
    "\n",
    "#c\n",
    "print (\"(c) The l2 norm of x - y is {:.4f}\".format(np.linalg.norm(x-y,ord=2)))\n",
    "\n",
    "#d\n",
    "print (\"(d) The value of x^T (x+y) {}\".format(np.matmul(x.T, x+y)))\n",
    "\n",
    "#e\n"
   ]
  },
  {
   "cell_type": "markdown",
   "metadata": {},
   "source": [
    "## 2.Solution\n",
    "(a) They are both 3X1 matrix, meaning that they have 3 rows and 1 column\n",
    "<br>\n",
    "(b) $x+2y =  \\begin{bmatrix} 8\\\\ 3 \\\\8 \\end{bmatrix}$\n",
    "<br>\n",
    "(c) $||x-y|| = 2.2361$\n",
    "<br>\n",
    "(d) $x^T(x+y) = 36$\n",
    "<br>\n",
    "(e) $x_2y_1 = 1*3 = 3$"
   ]
  },
  {
   "cell_type": "markdown",
   "metadata": {},
   "source": [
    "## 3. Verify whether each of the following sets is convex or not:\n",
    "(a) $X = \\{(x_1, x_2)|x_1^2+x_2^2 >=0\\}$\n",
    "<br>\n",
    "(b) $X = \\{x|3-x^2 = 0\\}$\n",
    "<br>\n",
    "(c) $X = \\{(x_1, x_2)| x_1/(x_2+2)<=3 , x_2 >= -1\\}$\n",
    "<br>"
   ]
  },
  {
   "cell_type": "code",
   "execution_count": 4,
   "metadata": {},
   "outputs": [],
   "source": [
    "\n",
    "# HELPER FUNCTION TO PERFORM SIMPLE CALCULATION\n",
    "import sympy as sym\n",
    "from sympy import init_printing\n",
    "from IPython.display import display, Markdown, Latex\n",
    "\n",
    "\n",
    "x = sym.Symbol('x')\n",
    "xp = sym.Symbol(\"x^{\\prime}\")\n",
    "x1 = sym.Symbol('x1')\n",
    "x2 = sym.Symbol('x2')\n",
    "L = sym.Symbol('\\lambda')\n",
    "x1p = sym.Symbol(\"x_1^{\\prime}\")\n",
    "x2p = sym.Symbol(\"x_2^{\\prime}\")\n"
   ]
  },
  {
   "cell_type": "code",
   "execution_count": 5,
   "metadata": {},
   "outputs": [],
   "source": [
    "def print_latex(symbols):\n",
    "    # A function to convert symbolic computation to latex\n",
    "\n",
    "    display(Markdown(\"$\" + str(symbols).replace(\"*\", \" \") + \"$\"))\n",
    "    return (sym.print_latex(symbols))\n",
    "\n"
   ]
  },
  {
   "cell_type": "markdown",
   "metadata": {},
   "source": [
    "## 3. Solution\n",
    "(a) $X = \\{(x_1, x_2)|x_1^2+x_2^2 >=0\\}$\n",
    "\n",
    "Let $(x_{1}, x_{2})$ and $(x_1^{\\prime}, x_2^{\\prime})$ belong to X. Then for arbitary $\\lambda$, $ 0<= \\lambda <= 1$.\n",
    "\n",
    "If we consider the point   $((\\lambda x_{1} + (1-\\lambda )x_1^{\\prime}),(\\lambda x_{2} + (1-\\lambda )x_2^{\\prime}))$, and then put them into the constraint $x_1^2+x_2^2$, we have:\n",
    "\n",
    "$(\\lambda x_{1} + (1-\\lambda )x_1^{\\prime})^2 + (\\lambda x_{2} + (1-\\lambda )x_2^{\\prime})^2$.\n",
    "\n",
    "Since both terms have square on them, so the above expression must be >= 0. Thus the set is CONVEX"
   ]
  },
  {
   "cell_type": "markdown",
   "metadata": {},
   "source": [
    "(b) $X = \\{x|3-x^2 = 0\\}$\n",
    "\n",
    "Suppose we have two points, $x$ and $x'$ that belong to the set X. And we have a arbitary $\\lambda$, $ 0<= \\lambda <= 1$. If we consider the point $\\lambda x + (1-\\lambda)x'$ and plug it into the constaint $3-x^2$, we have:\n",
    "\n",
    "$3 - (\\lambda x + (1-\\lambda)x')^2$.\n",
    "\n",
    "It is easy to see that if $\\lambda = 0$, the expression become $3 - x'^2$. If we assume $ 0< x'< x$, then $3-x'^2 > 3-x^2 \\neq 0$, which does not satisfy the constaint.   Thus the set is NOT CONVEX"
   ]
  },
  {
   "cell_type": "markdown",
   "metadata": {},
   "source": [
    "(c) $X = \\{(x_1, x_2)| x_1/(x_2+2)<=3 , x_2 >= -1\\}$\n",
    "\n",
    " since $x_2>=-1$, thus $x_2+2$ is always greater than zero (so the equality sign does not need to be flipped). The 1st constraint can be rewritten as $x_1 - 3(x_2+2) <= 0 $.\n",
    "\n",
    "Let $(x_{1}, x_{2})$ and $(x_1^{\\prime}, x_2^{\\prime})$ belong to X. And we have a arbitary $\\lambda$, $ 0<= \\lambda <= 1$.\n",
    "\n",
    "If we consider the point  $((\\lambda x_{1} + (1-\\lambda )x_1^{\\prime}),(\\lambda x_{2} + (1-\\lambda )x_2^{\\prime}))$, and then put them into the constraint $x_1/(x_2+2)$, we have:\n",
    "\n",
    "$(\\lambda x_{1} + (1-\\lambda )x_1^{\\prime}) - 3((\\lambda x_{2} + (1-\\lambda )x_2^{\\prime})+2)$\n",
    "\n",
    "Suppose $x'_1 < x_1$ and $x'_2 < x_2$, then $(\\lambda x_{1} + (1-\\lambda )x_1^{\\prime}) < x_1$ and $3((\\lambda x_{2} + (1-\\lambda )x_2^{\\prime})+2) <= 3(x_2+2)$. According to definition, $3(x_2+2) >= x_1$.  Thus $(\\lambda x_{1} + (1-\\lambda )x_1^{\\prime}) - 3((\\lambda x_{2} + (1-\\lambda )x_2^{\\prime})+2)$ is always <=0.\n",
    "\n",
    " The set is CONVEX"
   ]
  },
  {
   "cell_type": "markdown",
   "metadata": {},
   "source": [
    "Confirm problem c by plotting"
   ]
  },
  {
   "cell_type": "code",
   "execution_count": 6,
   "metadata": {},
   "outputs": [
    {
     "data": {
      "text/plain": [
       "<matplotlib.legend.Legend at 0x2b60f401898>"
      ]
     },
     "execution_count": 6,
     "metadata": {},
     "output_type": "execute_result"
    }
   ],
   "source": [
    "import matplotlib.pyplot as plt\n",
    "\n",
    "fig = plt.figure()\n",
    "fig.suptitle('Plot of all the constraint lines', fontsize=16)\n",
    "x = np.linspace(-10,20,10)\n",
    "x2 = (x-6)/3\n",
    "ymax = np.maximum(-1, x2)\n",
    "\n",
    "plt.plot(x,x2,lw = 4, color = \"yellow\")\n",
    "plt.axhline(y = -1, linestyle = \"-\", color = \"orange\")\n",
    "plt.fill_between(x, ymax, 10, color = \"grey\", alpha = 0.5)\n",
    "plt.legend(['x2 = (x-6)/3', \"x2 = -1\"], loc='lower left')\n"
   ]
  },
  {
   "cell_type": "markdown",
   "metadata": {},
   "source": [
    "The constraint area is highlighted in grey, it is obviously convex"
   ]
  },
  {
   "cell_type": "markdown",
   "metadata": {},
   "source": [
    "## 4. Verify whether the following problems are convex programs or not\n",
    "(a) min $x_{1}^{2} + x_{2}^{2}$ s.t. $(x_1, x_2) \\in R^2$\n",
    "\n",
    "(b) max $3x_1 + 2x_2$ s.t. $x_{1}^{2} + x_{2}^{2} <= 10$\n",
    "\n",
    "(c) min $\\sum_{i = 1}^{n} 2^i(x_i)^{2i}$ s.t. $\\sum_{i = 1}^{n} x_i >=10$"
   ]
  },
  {
   "cell_type": "markdown",
   "metadata": {},
   "source": [
    "## 4. Solution\n",
    "(a) min $x_{1}^{2} + x_{2}^{2}$ s.t. $(x_1, x_2) \\in R^2$\n",
    "\n",
    "From the lecture, we know that $x^2$ is a convex function, and we know that nonnegative weighted sum of convex function is convex. Thus, $x_{1}^{2} + x_{2}^{2}$ is nonnegative weighted sum operation thus the function is convex. In addition, the set itself basic means all real number, thus a set is convex too. With a convex function and convex set, the problem is a convex program.\n"
   ]
  },
  {
   "cell_type": "markdown",
   "metadata": {},
   "source": [
    "(b) max $3x_1 + 2x_2$ s.t. $x_{1}^{2} + x_{2}^{2} <= 10$\n",
    "\n",
    "Since this is a maximization problem, the function can be rewritten as min $-3x_1 - 2x_2 = -(3x_1+2x_2)$. A linear function is both convex and concave, thus the $-(3x_1+2x_2)$, can be either convex and concave.\n",
    "\n",
    "\n",
    "To prove if the set is convex, we invoke the definition of the convex set as we did at Problem 3.  The set constraint can be written as $(\\lambda x_{1} + (1-\\lambda )x_1^{\\prime})^2 + (\\lambda x_{2} + (1-\\lambda)x_2^{\\prime})^2$.\n",
    "\n",
    " Now suppose $x_1 >= x'_1$ and $x_2 >= x'_2$, then $(\\lambda x_{1} + (1-\\lambda )x_1^{\\prime})^2 <= x_1$ and $(\\lambda x_{2} + (1-\\lambda)x_2^{\\prime})^2 <= x_2$ since the operation is weighted sum. According to the constraint, $x_{1}^{2} + x_{2}^{2} <= 10$, thus $(\\lambda x_{1} + (1-\\lambda )x_1^{\\prime})^2 + (\\lambda x_{2} + (1-\\lambda)x_2^{\\prime})^2 <= 10$. The set is CONVEX.\n",
    "\n",
    "\n",
    "Since the function can be convex, and the set is convex, the problem is a convex program."
   ]
  },
  {
   "cell_type": "markdown",
   "metadata": {},
   "source": [
    "(c) min $\\sum_{i = 1}^{n} 2^i(x_i)^{2i}$ s.t. $\\sum_{i = 1}^{n} x_i >=10$\n",
    "\n",
    "\n",
    " First, let's look at the set. Suppose n =2, we have the set $x_1 + x_2 >=10$.\n",
    "\n",
    "Like in Problem 3, we invoke the definition of convex set, we have $\\lambda x_1 + (1- \\lambda x'_1) + x_2 + (1- \\lambda x'_2)$.\n",
    "\n",
    "Suppose $x'_1 < x_1$ and $x'_2 < x_2$ and $x_1 + x_2 = 10$, then $x'_1 + x'_2 < 10$. When $\\lambda = 0$, $\\lambda x_1 + (1- \\lambda x'_1) + \\lambda x_2 + (1- \\lambda x'_2) = x'_1 + x'_2$, which is less than 10. Thus, it does not satisfy the original constraint of the set, so the set is NOT CONVEX and as a result, the problem is NOT a convex program."
   ]
  },
  {
   "cell_type": "markdown",
   "metadata": {},
   "source": [
    "## 5. A quantity y is known to depend upon another quantity x. A set of n data pairs $\\{y_i, x_i\\}^n_{i = 1}$ has been collected.\n",
    "\n",
    "(a)Formulate an optimization model for fitting the best\" straight line y = a + bx to the data set, where best is with respect to the sum of absolute deviations. What kind of an optimization model is it?\n",
    "\n",
    "(b)Re-formulate the optimization model in part (a) where best is with respect to the maximum absolute deviation. What kind of an optimization model is it?\n",
    "\n",
    "(c)Formulate an optimization model for fitting the \"best\" quadratic curve $y=a+bx+cx^2$ to the data set, where best is with respect to the maximum absolute deviations. What kind of an optimization model is it ?"
   ]
  },
  {
   "cell_type": "markdown",
   "metadata": {},
   "source": [
    "## 5. Solution\n",
    "(a) $min\\sum_{i=1}^{n} |y_i - ax_i - b|$ for $i \\in [1,n]$ s.t. $a \\in R, b \\in R$\n",
    "<br>For the objective function, $y_i - ax_i - b$ can be convex, and absolute value of a convex function preserves convexity. The variable domain is continuous; as a result, the problem is a LINEAR PROBLEM\n",
    "\n",
    "(b) $min (max |y_i - ax_i - b|)$ for $i \\in [1,n]$ s.t. $a \\in R, b \\in R$\n",
    "<br>$y_i - ax_i - b$ is a linear function, which can be convex. The maximum of a convex function and absolute value of a convex function both preserve convexity. The variable domain is continuous; as a result, the problem is a LINEAR PROBLEM\n",
    "\n",
    "(c) $min (max |y_i - a - bx_i - cx^2_{i}|)$ for $i \\in [1,n]$ s.t. $a \\in R, b \\in R$\n",
    "\n",
    " the objective function is a convex function but nonlinear, thus the problem is a NONLINEAR PROBLEM."
   ]
  },
  {
   "cell_type": "code",
   "execution_count": 9,
   "metadata": {},
   "outputs": [
    {
     "data": {
      "text/plain": [
       "0"
      ]
     },
     "execution_count": 9,
     "metadata": {},
     "output_type": "execute_result"
    }
   ],
   "source": [
    "import os\n",
    "\n",
    "os.system('jupyter nbconvert --to html \"HW2 kliu321.ipynb\"')"
   ]
  },
  {
   "cell_type": "code",
   "execution_count": null,
   "metadata": {},
   "outputs": [],
   "source": []
  }
 ],
 "metadata": {
  "file_extension": ".py",
  "kernelspec": {
   "display_name": "Python 3",
   "language": "python",
   "name": "python3"
  },
  "language_info": {
   "codemirror_mode": {
    "name": "ipython",
    "version": 3
   },
   "file_extension": ".py",
   "mimetype": "text/x-python",
   "name": "python",
   "nbconvert_exporter": "python",
   "pygments_lexer": "ipython3",
   "version": "3.7.3"
  },
  "mimetype": "text/x-python",
  "name": "python",
  "npconvert_exporter": "python",
  "pygments_lexer": "ipython3",
  "version": 3
 },
 "nbformat": 4,
 "nbformat_minor": 2
}
