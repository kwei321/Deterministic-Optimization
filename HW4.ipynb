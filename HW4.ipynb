{
 "cells": [
  {
   "cell_type": "markdown",
   "metadata": {},
   "source": [
    "Minimize each of the following functions using an appropriate routine from scipy.optimize. Provide a printout of your code, along with the solution."
   ]
  },
  {
   "cell_type": "markdown",
   "metadata": {},
   "source": [
    "import packages"
   ]
  },
  {
   "cell_type": "code",
   "execution_count": 1,
   "metadata": {},
   "outputs": [],
   "source": [
    "import numpy as np\n",
    "from scipy import optimize\n"
   ]
  },
  {
   "cell_type": "markdown",
   "metadata": {},
   "source": [
    "1. $f(x_1, x_2, x_3) = |x^2_{1} - 3x_3 + 4| + (x_2 - 3)^2$ starting from the point (0, 0, 0)"
   ]
  },
  {
   "cell_type": "code",
   "execution_count": 2,
   "metadata": {},
   "outputs": [
    {
     "name": "stdout",
     "output_type": "stream",
     "text": [
      "Using Nelder-Mead Algorithm, the minimum of the object function is found at [-0.45756728  3.00002551  1.4031226 ] with objective value of 1.6696317548007262e-09\n"
     ]
    }
   ],
   "source": [
    "\n",
    "def f(x):\n",
    "    return (np.absolute(x[0]**2 - 3 * x[2]+4) + (x[1]-3)**2)\n",
    "\n",
    "result = optimize.minimize(f, [0,0,0],method = \"Nelder-Mead\")\n",
    "\n",
    "print (f\"Using Nelder-Mead Algorithm, the minimum of the object function is found at {result.x} with objective value of {result.fun}\")\n"
   ]
  },
  {
   "cell_type": "markdown",
   "metadata": {},
   "source": [
    " the minimum of the function is practically zero, which is true because abs and square must be >= 0, thus the minimum must be zero"
   ]
  },
  {
   "cell_type": "markdown",
   "metadata": {},
   "source": [
    "2. $f(x) = (x-1)x(x+3) + x^4$ over the interval $[-10, 10]$"
   ]
  },
  {
   "cell_type": "code",
   "execution_count": 3,
   "metadata": {},
   "outputs": [
    {
     "name": "stdout",
     "output_type": "stream",
     "text": [
      "Using the Golden Algorithm, the minimum of the object function is found at 0.47441768985981336 with objective value of -0.8156731036447341\n"
     ]
    }
   ],
   "source": [
    "\n",
    "def f2(x):\n",
    "    return (np.array((x-1)*x*(x+3)+x**4))\n",
    "\n",
    "# use golden method\n",
    "result2 = optimize.minimize_scalar(f2,bounds = [-10,10], method = \"golden\")\n",
    "\n",
    "print (f\"Using the Golden Algorithm, the minimum of the object function is found at {result2.x} with objective value of {result2.fun}\")\n"
   ]
  },
  {
   "cell_type": "code",
   "execution_count": 4,
   "metadata": {},
   "outputs": [
    {
     "name": "stdout",
     "output_type": "stream",
     "text": [
      "Using the Truncated Newton's Method, the minimum of the object function is found at [0.47441746] with objective value of [-0.8156731]\n"
     ]
    }
   ],
   "source": [
    "# use conjugated gradient descent\n",
    "result2_2 = optimize.minimize(f2, x0 = 0.0, bounds = ((-10,10),), method = \"TNC\")\n",
    "\n",
    "print (f\"Using the Truncated Newton's Method, the minimum of the object function is found at {result2_2.x} with objective value of {result2_2.fun}\")\n",
    "\n"
   ]
  },
  {
   "cell_type": "markdown",
   "metadata": {},
   "source": [
    "3. Let $A = \\begin{bmatrix} 2 & -3 \\\\ 4 & 1 \\end{bmatrix}$ and $b = \\begin{bmatrix} 1 \\\\ 9 \\end{bmatrix}$. Then $f(x) = ||Ax-b||$ where $x \\in R^2$. Start from (0,0)."
   ]
  },
  {
   "cell_type": "code",
   "execution_count": 5,
   "metadata": {},
   "outputs": [
    {
     "name": "stdout",
     "output_type": "stream",
     "text": [
      "Using the Truncated Nelder-Mead Method, the minimum of the object function is found at [2.00000833 1.00002649] with objective value of 8.674498631302434e-05\n"
     ]
    }
   ],
   "source": [
    "# note: scipy only accept 1d array. So if the input is numpy matrix, the result is wrong. That means you can't use the np.linalg function or hte np.matmul function as the function input for scipy.optimize. \n",
    "\n",
    "# That's why I expand everything in this case. \n",
    "\n",
    "def f3(x):\n",
    "    A = 2*x[0] - 3*x[1] - 1\n",
    "    B = 4*x[0] + x[1] -9\n",
    "\n",
    "    return (((2*x[0] - 3*x[1] - 1)**2 + (4*x[0] + x[1] -9) **2)**0.5)\n",
    "\n",
    "result3 = optimize.minimize(f3, x0 = [0,0], method = \"Nelder-Mead\")\n",
    "\n",
    "print (f\"Using the Truncated Nelder-Mead Method, the minimum of the object function is found at {result3.x} with objective value of {result3.fun}\")\n",
    "\n"
   ]
  }
 ],
 "metadata": {
  "file_extension": ".py",
  "kernelspec": {
   "display_name": "Python 3",
   "language": "python",
   "name": "python3"
  },
  "language_info": {
   "codemirror_mode": {
    "name": "ipython",
    "version": 3
   },
   "file_extension": ".py",
   "mimetype": "text/x-python",
   "name": "python",
   "nbconvert_exporter": "python",
   "pygments_lexer": "ipython3",
   "version": "3.7.3"
  },
  "mimetype": "text/x-python",
  "name": "python",
  "npconvert_exporter": "python",
  "pygments_lexer": "ipython3",
  "version": 3
 },
 "nbformat": 4,
 "nbformat_minor": 2
}
